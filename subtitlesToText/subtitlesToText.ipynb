{
 "cells": [
  {
   "cell_type": "markdown",
   "metadata": {
    "deletable": false,
    "editable": false
   },
   "source": [
    "# Convert video subtitles to text\n",
    "\n",
    "Created by: Derek Robinson <br>\n",
    "Last Updated: February 5, 2021"
   ]
  },
  {
   "cell_type": "markdown",
   "metadata": {
    "deletable": false,
    "editable": false
   },
   "source": [
    "### Learning Objectives\n",
    "\n",
    "In this Jupyter Notebook you will learn or review how to\n",
    "<ul>\n",
    "    <li> use the SRTtools library to extract text from a subtitle/captions document, </li>\n",
    "    <li> read the number of elements in a list,</li>\n",
    "    <li> use a 'for' loop, </li>\n",
    "    <li> concatenate strings, </li>\n",
    "    <li> write text to a file</li>\n",
    "</ul>"
   ]
  },
  {
   "cell_type": "markdown",
   "metadata": {
    "deletable": false,
    "editable": false
   },
   "source": [
    "### Problem Statement\n",
    "\n",
    "In this notebook you will convert the subtitle file from recorded lecture content into a readable transcript. The transcript will not contain paragraph structure, but it will be legible and provide a written description of the recorded voice over content. "
   ]
  },
  {
   "cell_type": "markdown",
   "metadata": {
    "deletable": false,
    "editable": false
   },
   "source": [
    "### Lets get started\n",
    "\n",
    "For this notebook we need only the `SRTtools` package. First try loading the packages into your r library and if you get an error then uncomment the install command and execute the cell to install the package."
   ]
  },
  {
   "cell_type": "code",
   "execution_count": 2,
   "metadata": {},
   "outputs": [],
   "source": [
    "#install.packages(\"SRTtools\")\n",
    "library(SRTtools)"
   ]
  },
  {
   "cell_type": "markdown",
   "metadata": {},
   "source": [
    "In the next block of code you are to provide the filename of your `.srt` subtitle file and the name of the `outputFilename`. <br>\n",
    "Precondition: the .srt file is located in the same folder as this notebook. <br>\n",
    "Postcondition: the output file after the notebook is run will contain all the text from the .srt file."
   ]
  },
  {
   "cell_type": "code",
   "execution_count": 3,
   "metadata": {},
   "outputs": [],
   "source": [
    "srtFile = \"LocalStatistics.mp4.srt\"\n",
    "outputFilename =\"transcription.txt\"\n",
    "subtitles <- srt.read(srtFile, encoding = \"utf-8\")\n",
    "#print(captions)"
   ]
  },
  {
   "cell_type": "markdown",
   "metadata": {},
   "source": [
    "The `srt.content()` function extracts all the text content from the captions file, and places each string of text associated with a specific timestamp into an element within a list. In this case we will call that list `srtContent`. "
   ]
  },
  {
   "cell_type": "code",
   "execution_count": 4,
   "metadata": {},
   "outputs": [],
   "source": [
    "srtContent <- srt.content(subtitles)\n",
    "#print(srtContent)\n",
    "#print(srtContent[1])"
   ]
  },
  {
   "cell_type": "markdown",
   "metadata": {},
   "source": [
    "Now that we have lines of text, we can loop through all the elements in the list and concatenate the text using the `paste()` function. Each element in the string contains data of `chr` type so we need to convert the element characters to a string using the `toString()` function. We also separate out the strings with a blank space `sep=\" \"` or else words that should have a space between them will be joined."
   ]
  },
  {
   "cell_type": "code",
   "execution_count": 5,
   "metadata": {},
   "outputs": [],
   "source": [
    "#srtTextJoin <- \"\"\n",
    "for (i in 1:length(srtContent)) {\n",
    "  srtTextJoin <- paste(srtTextJoin, toString(srtContent[i], sep=\" \")) \n",
    "}\n",
    "#print(srtTextJoin)\n"
   ]
  },
  {
   "cell_type": "markdown",
   "metadata": {},
   "source": [
    "Lastly, we create a new document as a transcript of the `.srt` file."
   ]
  },
  {
   "cell_type": "code",
   "execution_count": 6,
   "metadata": {},
   "outputs": [],
   "source": [
    "srt.write(srtTextJoin, outputFilename)"
   ]
  },
  {
   "cell_type": "markdown",
   "metadata": {},
   "source": [
    "# Congratulations! \n",
    "\n",
    "**You have reached the end of the subtitles-to-text notebook**"
   ]
  }
 ],
 "metadata": {
  "kernelspec": {
   "display_name": "R",
   "language": "R",
   "name": "ir"
  },
  "language_info": {
   "codemirror_mode": "r",
   "file_extension": ".r",
   "mimetype": "text/x-r-source",
   "name": "R",
   "pygments_lexer": "r",
   "version": "4.0.2"
  }
 },
 "nbformat": 4,
 "nbformat_minor": 4
}
