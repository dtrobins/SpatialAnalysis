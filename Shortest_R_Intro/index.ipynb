{
 "cells": [
  {
   "cell_type": "markdown",
   "metadata": {},
   "source": [
    "# Shortest R Intro Ever\n",
    "\n",
    "You can find a variety of different tutorials that can introduce you to the R statistics programming environment. Here I want to point out only a couple very basic but essential components to working with R."
   ]
  },
  {
   "cell_type": "markdown",
   "metadata": {},
   "source": [
    "The first component is the assignment operator `<-` which consists of a less than symbol `<` immediately followed by a minus symbol `-`. The assignment operator points to an object that will receive a value or the result of a mathematical expression.\n",
    "\n",
    "In the codeblock below the value of `1` is assigned `<-` to an object labelled `a`, a value of 2 is assigned to `b`, and the sum of `a` and `b` are assigned to the object `c`. Then the `print()` function is used to print out the value of `c`. Run the codeblock by pressing `<shift> + <Enter>`"
   ]
  },
  {
   "cell_type": "code",
   "execution_count": null,
   "metadata": {},
   "outputs": [],
   "source": [
    "a <- 1\n",
    "b <- 2\n",
    "c <- a + b\n",
    "print(c)"
   ]
  },
  {
   "cell_type": "markdown",
   "metadata": {},
   "source": [
    "When working with R you will use your data in what is referred to as a `data.frame`. For now you can imagine this much like a spreadsheet in a software like Excel. The data.frame comprises rows and columns. Here we can make a simple data frame comprising names and course scores. The `c()` function is a concatenation function, which puts all the contents within its parentheses into an array. The `data.frame()` function allows us to join arrays or vectors of the same length into a table format. Notice that the object names are the same in this codeblock as the one above. This new codeblock overwrites those objects from the previous codeblock."
   ]
  },
  {
   "cell_type": "code",
   "execution_count": null,
   "metadata": {},
   "outputs": [],
   "source": [
    "a <- c(\"Jiaxin\", \"Ben\", \"Li\", \"Bo\", \"Jenny\")\n",
    "b <- c(95, 85, 80, 75, 70)\n",
    "c <- data.frame(a,b)\n",
    "print (c)"
   ]
  },
  {
   "cell_type": "markdown",
   "metadata": {},
   "source": [
    "When your data is in a dataframe you can access different columns in the dataframe by using the `$` symbol. To do this you will use the name of the dataframe `c` followed by the `$` symbol and then the name of the column you want to retrieve or work with. As shown in the next codeblock."
   ]
  },
  {
   "cell_type": "code",
   "execution_count": null,
   "metadata": {},
   "outputs": [],
   "source": [
    "d <- c$a\n",
    "print(d)"
   ]
  },
  {
   "cell_type": "markdown",
   "metadata": {},
   "source": [
    "Working with dataframes and a series of numbers stored in a collection (e.g., lists, arrays, vectors) can be very efficient. For those not used to the process it may take some getting used to. Lets first look at our column of course scores `b` from our data.frame `c`."
   ]
  },
  {
   "cell_type": "code",
   "execution_count": null,
   "metadata": {},
   "outputs": [],
   "source": [
    "print(c$b)"
   ]
  },
  {
   "cell_type": "markdown",
   "metadata": {},
   "source": [
    "If we wanted to add 2 bonus points to every score we could do this quite easily with the following code:"
   ]
  },
  {
   "cell_type": "code",
   "execution_count": null,
   "metadata": {},
   "outputs": [],
   "source": [
    "finalScore <- c$b + 2\n",
    "print(finalScore)"
   ]
  },
  {
   "cell_type": "markdown",
   "metadata": {},
   "source": [
    "In the above codeblock we created an object `finalScore` and stored our original score `b` from our dataframe as represented by c$b + 2.\n",
    "\n",
    "I have kept the naming simple up to this point to make it clear with a, b, c, and d, to focus on how the objects are used. We could rename the dataframe as something more useful as follows:"
   ]
  },
  {
   "cell_type": "code",
   "execution_count": null,
   "metadata": {},
   "outputs": [],
   "source": [
    "courseScores <- c\n",
    "print(courseScores)"
   ]
  },
  {
   "cell_type": "markdown",
   "metadata": {},
   "source": [
    "Then rename the columns using the `colnames()` function. In this case we will tell `colnames()` to work on our dataframe `courseScores` and assign `<-` the column names `firstName` and `finalScore` to the first and second columns in our `courseScores` dataframe. "
   ]
  },
  {
   "cell_type": "code",
   "execution_count": null,
   "metadata": {},
   "outputs": [],
   "source": [
    "colnames(courseScores) <- c(\"firstName\",\"finalScore\")\n",
    "print(courseScores)"
   ]
  },
  {
   "cell_type": "markdown",
   "metadata": {},
   "source": [
    "Then we can similarly add to bonus marks to each student score we did above, but this time we will store the result in our dataframe. To do this we identify that we want the result to be in our dataframe `courseScores` and within that dataframe in our `finalScore` column. We will assign the values to that column based on what is to the right of our `<-` assignment operator. In this case we will assign the original score courseScores$finalScore + 2. Then we print the result to compare it to our scores above to see that every student score now has an additional 2 points."
   ]
  },
  {
   "cell_type": "code",
   "execution_count": null,
   "metadata": {},
   "outputs": [],
   "source": [
    "courseScores$finalScore <- courseScores$finalScore + 2\n",
    "print(courseScores)"
   ]
  },
  {
   "cell_type": "markdown",
   "metadata": {},
   "source": [
    "Lastly, it is important to note that <b>the Notebook stores your objects and their values until you clear the notebook via the menu or you reset an object with the code</b>. To prove that the notebook stores the objects, rerun the above codeblock a second time. You will see that it again added 2 to the student scores. This will happen every time you rerun the above codeblock. Try it a couple more times to see the outcome."
   ]
  }
 ],
 "metadata": {
  "kernelspec": {
   "display_name": "R",
   "language": "R",
   "name": "ir"
  },
  "language_info": {
   "codemirror_mode": "r",
   "file_extension": ".r",
   "mimetype": "text/x-r-source",
   "name": "R",
   "pygments_lexer": "r",
   "version": "4.0.2"
  }
 },
 "nbformat": 4,
 "nbformat_minor": 4
}
