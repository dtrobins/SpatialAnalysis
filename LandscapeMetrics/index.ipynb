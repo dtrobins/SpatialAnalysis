{
 "cells": [
  {
   "cell_type": "markdown",
   "metadata": {},
   "source": [
    "# Introduction to Landscape Metrics\n",
    "\n",
    "Created by: Derek Robinson <br>\n",
    "Last Updated: March 21, 2021"
   ]
  },
  {
   "cell_type": "markdown",
   "metadata": {},
   "source": [
    "### Learning Objectives\n",
    "\n",
    "In this Jupyter Notebook you will learn or review how to\n",
    "<ul>\n",
    "    <li> display .tif images in R; </li>\n",
    "    <li> work with file, folder, and path names;</li>\n",
    "    <li> resample raster data to a new resolution; </li>\n",
    "    <li> calculate individual landscape metrics; </li>\n",
    "    <li> merge dataframes; </li>\n",
    "    <li> create a correlation matrix;</li>\n",
    "    <li> conduct a variable reduction process by removing correlated variables; and </li>\n",
    "    <li> report landscape metric results. </li>    \n",
    "</ul>"
   ]
  },
  {
   "cell_type": "markdown",
   "metadata": {},
   "source": [
    "### Assignment Completion\n",
    "\n",
    "For those in GEOG 318/PLAN 353 @UWaterloo, the assignment directions and submission requirements are provided on LEARN as a quiz that spans multiple days. To complete the quiz/assignment you will need to do the following:\n",
    "\n",
    "<ul>\n",
    "    <li> Complete this Jupyter Notebook.</li>\n",
    "    <ul>\n",
    "        <li> To advance to the next text cell or execute the code in a cell hold <font style=\"font-family:'Courier New'\"><mark font-family=\"Courier New\" style=\"background-color: #F5F5F5\">Shift</mark></font> and press <font style=\"font-family:'Courier New'\"><mark font-family=\"Courier New\" style=\"background-color: #F5F5F5\">Enter</mark></font> </li>\n",
    "        <li> If there is a method for which you would like to know more about its parameters or how it works then you can place your cursor on the method and press <font style=\"font-family:'Courier New'\"><mark font-family=\"Courier New\" style=\"background-color: #F5F5F5\">Shift + Tab</mark></font> and a help box will appear that you can expand and scroll through.</li>\n",
    "    </ul>\n",
    "    <li> Complete the Introduction to Landscape Metrics Quiz/Assignment in LEARN, which may require you to </li>\n",
    "    <ul>\n",
    "        <li> copy results from your notebook into the LEARN input boxes, </li>\n",
    "        <li> take screen captures of your notebook output and submit them via LEARN, or </li>\n",
    "        <li> change values in the Jupyter Notebook and re-execute cells/code to obtain new results. </li>\n",
    "    </ul>\n",
    "    <li> <b>While you may discuss course content with your classmates, you are to complete the assignment individually.</b></li>\n",
    "</ul>"
   ]
  },
  {
   "cell_type": "markdown",
   "metadata": {},
   "source": [
    "### Problem Statement & Data\n",
    "\n",
    "In this Notebook we are going to use landscape metrics to quantify the composition and configuration of vegetation communities in and around multiple wetlands residing in the Rocky Mountains near Canmore, Alberta.\n",
    "\n",
    "The following two publications provide examples of the use of landscape metrics to describe land-cover patterns. Within these papers we generate a random sample of 1-km<sup>2</sup> landscapes and then analyze the spatial pattern (using landscape metrics) across different natural areas and classes of increasing human disturbance.\n",
    "\n",
    "Ridge, J., Robinson, D.T., and R.C. Rooney (2020). What is the distribution and structure of permanent open-water wet-landscapes in Alberta? A case for reclamation design. Wetlands Ecology and Management. (Open Access)\n",
    "\n",
    "https://link.springer.com/article/10.1007/s11273-020-09769-2\n",
    "\n",
    "Evans, I., Robinson, D.T., and R. Rooney (2017). A methodology for relating wetland configuration to human disturbance in Alberta. Landscape Ecology, 32(10), 2059-2076. (Open Access)\n",
    "\n",
    "https://link.springer.com/article/10.1007/s10980-017-0566-z\n",
    "\n",
    "**While the methods below use wetland vegetation community data, they are applicable to raster data representing other phenomena using nominal classification.** "
   ]
  },
  {
   "cell_type": "markdown",
   "metadata": {},
   "source": [
    "### Lets get started\n",
    "Sometimes when running functions and code in R you will receive warnings. These are displayed in pink in Jupyter Notebook following the execution of a cell. The warnings arise for a variety of reasons like a parameter was not specified so a default will be used. In creating these notebooks I have reviewed the warnings and they do not affect the results. The next line of code turns them off so that you are not confused or worried about them. However, if you would like to see them you may restart the notebook and comment the following cell code or skip executing it."
   ]
  },
  {
   "cell_type": "code",
   "execution_count": null,
   "metadata": {},
   "outputs": [],
   "source": [
    "#options(warn=-1)\n",
    "# command to turn warnings on\n",
    "options(warn=0)"
   ]
  },
  {
   "cell_type": "markdown",
   "metadata": {},
   "source": [
    "We need to use several functions in the `magick`, `landscapemetrics`, `landscapetools`, and `raster` packages. In addition to the spatial analysis methods from those packages we will use the `ggplot2` package for visualizing some of our output data. First try loading the packages and if you get an error then uncomment the install command and execute the cell to install the package. Remember, if you're working on the JupyterHub then you can't install the packages their, only on your home computer."
   ]
  },
  {
   "cell_type": "code",
   "execution_count": null,
   "metadata": {},
   "outputs": [],
   "source": [
    "#install.packages(\"landscapemetrics\")\n",
    "#install.packages(\"landscapetools\")\n",
    "#install.packages(\"raster\")\n",
    "#install.packages(\"magick\")\n",
    "#install.packages(\"rgdal\")\n",
    "\n",
    "library(magick)\n",
    "library(landscapemetrics)\n",
    "library(landscapetools)\n",
    "library(raster)\n",
    "library(rgdal)"
   ]
  },
  {
   "cell_type": "markdown",
   "metadata": {},
   "source": [
    "# Displaying imagery with Magick\n",
    "\n",
    "Lets first look at the study site with imagery acquired from a DJI Inspire 1. The two images are large ~54 and ~45 Mb each and comprise the northern and southern portions of our study wetland. The images are large because the resolution of the imagery is very-high at ~2.5 cm. To collect the imagery, the Inspire 1 was flown at a height of 60 m taking # images that were used to generate an orthomosaic in Pix4D. \n",
    "\n",
    "First we will load the two images into a variable `north` and `south`."
   ]
  },
  {
   "cell_type": "code",
   "execution_count": null,
   "metadata": {},
   "outputs": [],
   "source": [
    "north <- image_read(\"Wetland2BaseMap1of2.tif\")\n",
    "south <- image_read(\"Wetland2BaseMap2of2.tif\")"
   ]
  },
  {
   "cell_type": "markdown",
   "metadata": {},
   "source": [
    "The `magick` library can append images together but first requires a list of image objects, which we can create by concatenating the objects together using the `c()` function. Then we can specify the scale at which we want to image to display and if we want the images side-by-side then we can set the `stack` parameter to TRUE."
   ]
  },
  {
   "cell_type": "code",
   "execution_count": null,
   "metadata": {},
   "outputs": [],
   "source": [
    "img <- c(north, south)\n",
    "image_append(image_scale(img, \"500\"), stack=TRUE)"
   ]
  },
  {
   "cell_type": "markdown",
   "metadata": {},
   "source": [
    "# Working with multiple rasters\n",
    "\n",
    "While the above content is useful for getting information about a single landscape. We often want to compute and summarize or compare results across multiple landscapes. First lets get a list of the wetland rasters we have available to analyze by using the `list()` function. We will get the names including the path from our Notebook location by setting the `full.names` parameter `= TRUE` and then we will get just the file names by setting that same parameter to `FALSE`. Lastly, we will use the built in R function `file_path_sans_ext()` to retrieve the file name with out the extension."
   ]
  },
  {
   "cell_type": "code",
   "execution_count": null,
   "metadata": {},
   "outputs": [],
   "source": [
    "wetlandFListwPath <- list.files(path='./ClassifiedRasterData/', full.names=TRUE)\n",
    "wetlandFListwoPath <- list.files(path='./ClassifiedRasterData/', full.names=FALSE)\n",
    "\n",
    "wetlandFListNames <- \"\"\n",
    "for(i in 1:length(wetlandFListwoPath)) {\n",
    "    wetlandFListNames[i] <- tools::file_path_sans_ext(wetlandFListwoPath[i])\n",
    "}"
   ]
  },
  {
   "cell_type": "markdown",
   "metadata": {},
   "source": [
    "Using our new list of wetland rasters, we can load our wetland rasters into raster layer objects using the `raster()` function from the `raster` package. Unfortunately we can not use a RasterStack or RasterBrick because our spatial extents and locations differ. So we have to create individual raster objects."
   ]
  },
  {
   "cell_type": "code",
   "execution_count": null,
   "metadata": {},
   "outputs": [],
   "source": [
    "wetlandFListwPath"
   ]
  },
  {
   "cell_type": "markdown",
   "metadata": {},
   "source": [
    "Ideally, now that we have the list of file names above from our folder we could loop through those file using something like the following code\n",
    "\n",
    "\n",
    "<code> \n",
    "    \n",
    "wetLists = vector(\"list\", length(wetlandFListwoPath))\n",
    "wetlists <- \"\"\n",
    "for(i in 1:length(wetlandFListwoPath)) {\n",
    "    wetLists[i] <- raster(wetlandFListwPath[i])\n",
    "}\n",
    "</code>\n",
    "\n",
    "\n",
    "However, once the rasterLayer objects are in the list I can not find a way to plot the raster using something like `plot(wetLists[1])` nor can I extract the rasterLayer for use in other functions. Therefore, we are stuck having to manually create a rasterLayer object for each `.tif`. "
   ]
  },
  {
   "cell_type": "code",
   "execution_count": null,
   "metadata": {},
   "outputs": [],
   "source": [
    "wetland2r <- raster(\"./ClassifiedRasterData//Wetland2Raster.tif\")\n",
    "wetland6r <- raster(\"./ClassifiedRasterData//Wetland6Raster.tif\")\n",
    "wetland7r <- raster(\"./ClassifiedRasterData//Wetland7Raster.tif\")\n",
    "wetland8r <- raster(\"./ClassifiedRasterData//Wetland8Raster.tif\")\n",
    "wetland9r <- raster(\"./ClassifiedRasterData//Wetland9Raster.tif\")\n",
    "wetland10r <- raster(\"./ClassifiedRasterData//Wetland10Raster.tif\")\n",
    "wetland11r <- raster(\"./ClassifiedRasterData//Wetland11Raster.tif\")\n",
    "wetland12r <- raster(\"./ClassifiedRasterData//Wetland12Raster.tif\")"
   ]
  },
  {
   "cell_type": "markdown",
   "metadata": {},
   "source": [
    "# Resampling Raster data\n",
    "\n",
    "As mentioned above our raster data have different locations and spatial extents. They also have different resolutions and more than one of them has over a million pixels. We want to conduct our landscape metric analysis on data that is of the same resolution so that we can compare the landscapes with each other. There are a variety of packages and functions for resampling the data. For example, \n",
    "* the `resample()` function from the `raster` package allows you to resample and change the resolution, but it only works when the two rasters used intersect with each other. Therefore, it is a good approach if you want to snap the rasters together to share the same cell location and size. \n",
    "* the `aggregate()` function from `raster` package can also be used, but it only works by grouping cells together to make larger ones (i.e., aggregating) by a factor of the existing cell resolution.\n",
    "\n",
    "However, the best approach is to use the `gdalUtils` package that enables us to use `gdal` in R. Using gdal not only requires that we load the package `library(gdalUtils)` but it also requires that you have gdal installed on your computer. We are lucky as it has been installed on the Math JuptyerLab so we can easily take advantage of it. Lets load the `gdalUtils` package now."
   ]
  },
  {
   "cell_type": "code",
   "execution_count": null,
   "metadata": {},
   "outputs": [],
   "source": [
    "library(gdalUtils)"
   ]
  },
  {
   "cell_type": "markdown",
   "metadata": {},
   "source": [
    "My understanding, which could be wrong, is that because `gdalUtils` provides a wrapper for the gdal code, the functions within the package work directly with data on your computer/server rather than with R objects. For example, lets try calling the `gdalinfo()` function to ensure `gdalUtils` is parsing out the important information from our raster data. We can use `wetland2r`."
   ]
  },
  {
   "cell_type": "code",
   "execution_count": null,
   "metadata": {},
   "outputs": [],
   "source": [
    "gdalinfo(wetland2r)"
   ]
  },
  {
   "cell_type": "markdown",
   "metadata": {},
   "source": [
    "The output from the above code has a warning message a reporting `... had status 1` error, which means that the function exited abruptly, and returned nothing useful for us. Lets try this again now, but use a direct path to the raster data stored in `ClassifiedRasterData/Wetland2Raster.tif`. You will only see the above warning if you haven't turned the warnings off at the beginning of the Notebook."
   ]
  },
  {
   "cell_type": "code",
   "execution_count": null,
   "metadata": {},
   "outputs": [],
   "source": [
    "gdalinfo(\"./ClassifiedRasterData//Wetland2Raster.tif\")"
   ]
  },
  {
   "cell_type": "markdown",
   "metadata": {},
   "source": [
    "___________________________________________________\n",
    "\n",
    "You can see that the `gdalUtils` has parsed out the spatial reference information as well as the pixel size, among other information.\n",
    "We are going to use the `gdalwarp()` function to resample our raster data to a common cell resolution. You can review the `gdalUtils` package and `gdalwarp()` function and parameter requirements here https://cran.r-project.org/web/packages/gdalUtils/gdalUtils.pdf \n",
    "\n",
    "One of the parameter requirements is an output filename. As mentioned above, because the gdalUtils is merely a wrapper it works directly with the data, so we can not port the output of `gdalwarp()` to a raster object or any other R object. \n",
    "\n",
    "Lets set our resolution `res` equal to 1 m. Then, because gdal only deals with files on the hard drive, we can loop through all the files in our `wetlandFListNames[]` vector and resample each raster using the `gdalwarp()` function. The first argument of the function is a file name, which we identify with the `wetlandFListwPath[i]` variable defined at the beginning of the Notebook. The second argument is a destination path and filename `dst`, which we create by adding a suffix Out.tif to our input filename using the `paste()` function. Then we add our new filename to our output path name \"./ResampledData/\". The third parameter `output_Raster` is asking if we want to output a raster object, which we do `TRUE`. Our forth paramter `overwrite` determines if we are going to write over an existing file with the same name, which we want to (`TRUE`) so that we can rerun the script without error. The fifth parameter `tr` defines the x and y resolution for the new cells, which we set to our `res` variable. Lastly, our sixth parameter `r` defines the type of interpolation to use, which because we are using nominal data requires that we use the nearest neighbour value that is defined as `near`.  "
   ]
  },
  {
   "cell_type": "code",
   "execution_count": null,
   "metadata": {},
   "outputs": [],
   "source": [
    "res = 1.00\n",
    "\n",
    "for(i in 1:length(wetlandFListNames)) {\n",
    "    #output file name\n",
    "    name = paste(wetlandFListNames[i],\"Out.tif\", sep=\"\")\n",
    "    \n",
    "    # output folder plus file name\n",
    "    dst = paste(\"./ResampledData/\",name, sep=\"\")\n",
    "    \n",
    "    gdalwarp(srcfile=wetlandFListwPath[i], dstfile=dst, output_Raster=TRUE, overwrite=TRUE, tr=c(res,res), r=\"near\")    \n",
    "}"
   ]
  },
  {
   "cell_type": "markdown",
   "metadata": {},
   "source": [
    "Now that we have resampled all of our data to a new spatial resolution that we want to work with, we need to reload those data into raster objects for use in subsequent analysis, using the `raster()` function from the `raster` package. Even though we cannot work with the rasterLayer objects if we store them in a list, we can still use the list for other tasks as you'll soon see. So we will also add the rasters to a list `wetlandResampList` using the `as.list()` function."
   ]
  },
  {
   "cell_type": "code",
   "execution_count": null,
   "metadata": {},
   "outputs": [],
   "source": [
    "wetland2resamp <- raster(\"./ResampledData//Wetland2RasterOut.tif\")\n",
    "wetland6resamp <- raster(\"./ResampledData//Wetland6RasterOut.tif\")\n",
    "wetland7resamp <- raster(\"./ResampledData//Wetland7RasterOut.tif\")\n",
    "wetland8resamp <- raster(\"./ResampledData//Wetland8RasterOut.tif\")\n",
    "wetland9resamp <- raster(\"./ResampledData//Wetland9RasterOut.tif\")\n",
    "wetland10resamp <- raster(\"./ResampledData//Wetland10RasterOut.tif\")\n",
    "wetland11resamp <- raster(\"./ResampledData//Wetland11RasterOut.tif\")\n",
    "wetland12resamp <- raster(\"./ResampledData//Wetland12RasterOut.tif\")\n",
    "wetlandResampList <- as.list(wetland2resamp, wetland6resamp, wetland7resamp, wetland8resamp, wetland9resamp, wetland10resamp, wetland11resamp, wetland12resamp)"
   ]
  },
  {
   "cell_type": "markdown",
   "metadata": {},
   "source": [
    "Lets view the original raster and our resampled raster side by side to visualize the outcome of our resampling. To do this we can set the plotting parameters using the `par()` function and specify a matrix format of rows `mfrow` as 1 row and two columns using `c(1,2)`. Then calling two `plot()` functions will put them in the matrix locations of 1,1 and 1,2."
   ]
  },
  {
   "cell_type": "code",
   "execution_count": null,
   "metadata": {},
   "outputs": [],
   "source": [
    "par(mfrow=c(1,2))\n",
    "plot(wetland2r)\n",
    "plot(wetland2resamp)"
   ]
  },
  {
   "cell_type": "markdown",
   "metadata": {},
   "source": [
    "# Data verification for landscape analysis\n",
    "\n",
    "The original remotely piloted aircraft (RPAS imagery was manually digitized into 12 classes of vegetation for landscape analysis. Lets confirm that the data are working with the `landscapemetrics` and `landscapetools` packages for our analysis. First, we will test that the `show_landscape()` function from the `landscapetools` package is able to plot our data."
   ]
  },
  {
   "cell_type": "code",
   "execution_count": null,
   "metadata": {},
   "outputs": [],
   "source": [
    "show_landscape(wetland2r)"
   ]
  },
  {
   "cell_type": "markdown",
   "metadata": {},
   "source": [
    "To calculate meaningful landscape metric values with the `landscapemetrics` library requires the following three conditions to be met:\n",
    "\n",
    "*The distance units of your projection are meter, as the package converts units internally and returns results in either meters, square meters or hectares. For more information see the help file of each function.\n",
    "\n",
    "*Your raster encodes landscape classes as integers (1, 2, 3, 4, …, n).\n",
    "\n",
    "*Landscape metrics describe categorical landscapes, that means that your landscape needs to be classified (we throw a warning if you have more than 30 classes to make sure you work with a classified landscape).\n",
    "\n",
    "We can check these conditions by running the `check_landscape()` function from the `landscapemetrics` library."
   ]
  },
  {
   "cell_type": "code",
   "execution_count": null,
   "metadata": {},
   "outputs": [],
   "source": [
    "check_landscape(wetlandResampList)"
   ]
  },
  {
   "cell_type": "markdown",
   "metadata": {},
   "source": [
    "If the data are acceptable then there will be a &#10004; in the right-most column to indicate that the data are acceptable, i.e., `OK`. You should be seeing that a coordinate reference system (crs) exists, that the units are in metres `m`,  that the classes comprise nominal data (are not doubles or floats), and the number of classes in the data.\n",
    "\n",
    "Working with the `landscapemetrics` package to calculate landscape metrics uses a common format of `lsm_#_?`, where the `#` is replaced by a `l`, `c`, or `p`, if the analysis is at the landscape, class, or patch level, respectively. The `?` is replaced by the metric of interest, e.g., Eucliean nearest neighbour = `enn`, total area = `ta`, and many others metrics. The full list of metrics can be found here: https://r-spatialecology.github.io/landscapemetrics/reference/index.html\n",
    "\n",
    "To see what the output looks like, lets calculate the Euclidean nearest-neighbour distance for each patch in the data layer using `lsm_p_enn()` function. We can next this function within the `head()` function to show only the first six results."
   ]
  },
  {
   "cell_type": "code",
   "execution_count": null,
   "metadata": {},
   "outputs": [],
   "source": [
    "head(lsm_p_enn(wetland2resamp))"
   ]
  },
  {
   "cell_type": "markdown",
   "metadata": {},
   "source": [
    "The above table shows that we may have more than one layer, although we only have one. It shows what level the metric is calculated at (i.e., patch, class, or landscape), the `class` ID = 1, the patch `id` that shows each patch has its own id, the metric computed `enn`, and the `value` of that metric for each patch.\n",
    "\n",
    "If we calculate a metric for the entire landscape, instead of for each patch, then we will only have a single row of results returned. For example, lets calculate the total area `ta` of our study area data."
   ]
  },
  {
   "cell_type": "code",
   "execution_count": null,
   "metadata": {},
   "outputs": [],
   "source": [
    "lsm_l_ta(wetland2resamp)"
   ]
  },
  {
   "cell_type": "markdown",
   "metadata": {},
   "source": [
    "When I first observed the above table and the total area was 3.1386... I thought something was wrong. However, the data passed the `check_lanscape()`. The data are in metres `m` and the area is certainly much more than 3.146 m<sup>2</sup>... so I went to the documentation here:\n",
    "\n",
    "https://r-spatialecology.github.io/landscapemetrics/reference/index.htmlhttps://r-spatialecology.github.io/landscapemetrics/reference/index.html\n",
    "\n",
    "clicked on `lsm_l_ta()`, which took me here: https://r-spatialecology.github.io/landscapemetrics/reference/lsm_l_ta.html\n",
    "\n",
    "and I found out that the output of `lsm_l_ta()` is in `hectares`, which made sense since 1 ha = 10,000 m<sup>2</sup>. \n"
   ]
  },
  {
   "cell_type": "markdown",
   "metadata": {},
   "source": [
    "# Landscape metric correlation and selection\n",
    "\n",
    "Now that we have visualized and loaded raster data as well as used those data with the `landscapemetrics` package, lets work with data from multiple wetlands/rasters. Instead of picking a few metrics to use, we can calculate all the metrics at a particular level (i.e., patch, class, landscape) or any combination using the `calculate_lsm()` function. \n",
    "\n",
    "We do not need to calculate metrics for individual patches since we are not interested in the size or shape of every patch, but instead are interested in class and landscape metrics. However, to keep things simple, lets focus just on the landscape-level metrics.\n",
    "\n",
    "Next lets calculate the landscape-level metrics for each wetland. **Be patient, this may take a couple of minutes.** "
   ]
  },
  {
   "cell_type": "code",
   "execution_count": null,
   "metadata": {},
   "outputs": [],
   "source": [
    "wetland2metrics <- calculate_lsm(wetlandResampList[1], level=c(\"landscape\"), classes_max = 12)\n",
    "wetland6metrics <- calculate_lsm(wetlandResampList[2], level=c(\"landscape\"), classes_max = 12)\n",
    "wetland7metrics <- calculate_lsm(wetlandResampList[3], level=c(\"landscape\"), classes_max = 12)\n",
    "wetland8metrics <- calculate_lsm(wetlandResampList[4], level=c(\"landscape\"), classes_max = 12)\n",
    "wetland9metrics <- calculate_lsm(wetlandResampList[5], level=c(\"landscape\"), classes_max = 12)\n",
    "wetland10metrics <- calculate_lsm(wetlandResampList[6], level=c(\"landscape\"), classes_max = 12)\n",
    "wetland11metrics <- calculate_lsm(wetlandResampList[7], level=c(\"landscape\"), classes_max = 12)\n",
    "wetland12metrics <- calculate_lsm(wetlandResampList[8], level=c(\"landscape\"), classes_max = 12)"
   ]
  },
  {
   "cell_type": "markdown",
   "metadata": {},
   "source": [
    "You can view the calculated metrics and the format of the output if you would like, but keep it short by using the `head()` function"
   ]
  },
  {
   "cell_type": "code",
   "execution_count": null,
   "metadata": {},
   "outputs": [],
   "source": [
    "head(wetland2metrics)"
   ]
  },
  {
   "cell_type": "markdown",
   "metadata": {},
   "source": [
    "Now that we have hundreds of landscape metrics for multiple wetlands we face a critical question\n",
    "* **how do we report results for hundreds of metrics across multiple wetlands/landscapes?**\n",
    "\n",
    "The simple answer is we can't since there is too much data. Instead we should be asking\n",
    "* **what metrics should we report?**\n",
    "\n",
    "An objective way to determine which metrics to report is to remove those that are highly correlated with other metrics. This process, which we have been calling `metric reduction`, is an objective way to identify landscape metrics to use in quantifying landscape composition and configuration.\n",
    "\n",
    "To conduct a correlation analysis of our landscape metrics we first need a sequence of metric values (i.e., we need the different metric values for the same metric across all of our wetlands/landscape data). Then we can see if the values for one metric (e.g., ai) move in the same direction with the same magnitude as another metric (e.g., lpi). To do this requires that we have all the metric values from all wetlands in the same dataframe.\n",
    "\n",
    "To get our metric values in the same data frame we first need to rename the `value` column with a name that coincides with the wetland id. We can do this using the `names()` function to assign a new name to a particular row. Since the `value` column is the sixth column we assign our new name to the sixth column name of our dataframe. Lets do that for each set of landscape metrics we just calculated."
   ]
  },
  {
   "cell_type": "code",
   "execution_count": null,
   "metadata": {},
   "outputs": [],
   "source": [
    "names(wetland2metrics)[6] <- \"wet2value\" \n",
    "names(wetland6metrics)[6] <- \"wet6value\" \n",
    "names(wetland7metrics)[6] <- \"wet7value\" \n",
    "names(wetland8metrics)[6] <- \"wet8value\" \n",
    "names(wetland9metrics)[6] <- \"wet9value\" \n",
    "names(wetland10metrics)[6] <- \"wet10value\" \n",
    "names(wetland11metrics)[6] <- \"wet11value\" \n",
    "names(wetland12metrics)[6] <- \"wet12value\" "
   ]
  },
  {
   "cell_type": "markdown",
   "metadata": {},
   "source": [
    "Verify the name change"
   ]
  },
  {
   "cell_type": "code",
   "execution_count": null,
   "metadata": {},
   "outputs": [],
   "source": [
    "head(wetland2metrics)"
   ]
  },
  {
   "cell_type": "markdown",
   "metadata": {},
   "source": [
    "Now you can see we change the column name from `value` to `wet2value`.\n",
    "\n",
    "With our unique column names we can merge the landscape metric data we calcuated for each wetland together. Unfortunately I have only been able to find a way to do this using two dataframes at a time with the `merge()` function. The first two parameters are the dataframes you wish to merge and the third parameter is the column(s) you wish to merge by. If we were including class level metrics then we could alter the parameter to `by=c(\"class\",\"metric\")` to ensure that the correct metrics merge with the correct class (since we have 12 classes we would have 12 versions of each class-level landscape metric, one for each class).\n",
    "\n",
    "I have built the names and the code out to be as explicit and transparent as possible here."
   ]
  },
  {
   "cell_type": "code",
   "execution_count": null,
   "metadata": {},
   "outputs": [],
   "source": [
    "wetlands2_6metrics <- merge(wetland2metrics, wetland6metrics, by=c(\"metric\"))\n",
    "wetlands2_6_7metrics <- merge(wetlands2_6metrics, wetland7metrics, by=c(\"metric\")) \n",
    "wetlands2_6_7_8metrics <- merge(wetlands2_6_7metrics, wetland8metrics, by=c(\"metric\"))\n",
    "wetlands2_6_7_8_9metrics <- merge(wetlands2_6_7_8metrics, wetland9metrics, by=c(\"metric\"))\n",
    "wetlands2_6_7_8_9_10metrics <- merge(wetlands2_6_7_8_9metrics, wetland10metrics, by=c(\"metric\"))\n",
    "wetlands2_6_7_8_9_10_11metrics <- merge(wetlands2_6_7_8_9_10metrics, wetland11metrics, by=c(\"metric\"))\n",
    "wetlands2_6_7_8_9_10_11_12metrics <- merge(wetlands2_6_7_8_9_10_11metrics, wetland12metrics, by=c(\"metric\"))"
   ]
  },
  {
   "cell_type": "markdown",
   "metadata": {},
   "source": [
    "I have not yet completely cleaned the data so you may see warnings output from the previous code block noting some duplicate names and other issues. Should you feel like ensuring this is all cleaned up then please feel free to send along your improvements.\n",
    "\n",
    "Think about what you would expect the merged data frame to look like and only after you have done this then take a quick peak at the merged data"
   ]
  },
  {
   "cell_type": "code",
   "execution_count": null,
   "metadata": {},
   "outputs": [],
   "source": [
    "head(wetlands2_6_7_8_9_10_11_12metrics)"
   ]
  },
  {
   "cell_type": "markdown",
   "metadata": {},
   "source": [
    "To clean the data.frame up, lets identify the variables we want to keep, select them out of the dataframe and put them in a new data frame."
   ]
  },
  {
   "cell_type": "code",
   "execution_count": null,
   "metadata": {},
   "outputs": [],
   "source": [
    "selectVars <- c(\"metric\", \"wet2value\", \"wet6value\", \"wet7value\", \"wet8value\", \"wet9value\", \"wet10value\", \"wet11value\", \"wet12value\")\n",
    "wetlandmetrics <- wetlands2_6_7_8_9_10_11_12metrics[selectVars]"
   ]
  },
  {
   "cell_type": "markdown",
   "metadata": {},
   "source": [
    "I always like to view my results to ensure the steps are working out and to fully understand my data. \n",
    "Lets take a peak..."
   ]
  },
  {
   "cell_type": "code",
   "execution_count": null,
   "metadata": {},
   "outputs": [],
   "source": [
    "wetlandmetrics"
   ]
  },
  {
   "cell_type": "markdown",
   "metadata": {},
   "source": [
    "Sometimes you should take a look at all of your data, which is why I didn't use the `head()` function above. Good thing I didn't, because if you scroll through the data, you will see that some of the data are missing for a few landscape metrics and some have `NA` values. The lack of these data, especially if there is only one number in a row, can cause a problem when trying to compute the correlation between two landscape metrics. We can easily eliminate these data, by using the `complete.cases()` function which retains only those rows from the original data have data in every column."
   ]
  },
  {
   "cell_type": "code",
   "execution_count": null,
   "metadata": {},
   "outputs": [],
   "source": [
    "wetlandMetricsClean <- wetlandmetrics[complete.cases(wetlandmetrics), ]"
   ]
  },
  {
   "cell_type": "markdown",
   "metadata": {},
   "source": [
    "Now if we view the data we should not find any missing or NA values."
   ]
  },
  {
   "cell_type": "code",
   "execution_count": null,
   "metadata": {},
   "outputs": [],
   "source": [
    "wetlandMetricsClean"
   ]
  },
  {
   "cell_type": "markdown",
   "metadata": {},
   "source": [
    "While the dataframe above is clean and combines our landscape metrics from multiple wetlands, it is not in the format required for calculating a correlation matrix.\n",
    "\n",
    "To calculate a correlation matrix we will use the `cor()` function from the `caret` package. Load the `caret` package."
   ]
  },
  {
   "cell_type": "code",
   "execution_count": null,
   "metadata": {},
   "outputs": [],
   "source": [
    "library(caret)"
   ]
  },
  {
   "cell_type": "markdown",
   "metadata": {},
   "source": [
    "The `cor()` function requires the values to be correlated against each other to be in rows. To do this we can transpose our data.frame using the transpose `t()` function. However, this creates a matrix instead of a dataframe. To get the data back into a data.frame we can coerce the data using the `as.data.frame()` function. "
   ]
  },
  {
   "cell_type": "code",
   "execution_count": null,
   "metadata": {},
   "outputs": [],
   "source": [
    "wetMets <- as.data.frame(t(wetlandMetricsClean))"
   ]
  },
  {
   "cell_type": "markdown",
   "metadata": {},
   "source": [
    "If you print out the `wetMets` object you'll see that things are working out. However, the `cor()` function will not work with the metric names occupying the first row. Lets assign the column names of the dataframe our metric names listed in row 1 using the `names()` function. Lets also delete the row from the dataframe so that the dataframe only contains numeric variables and take a look at the dataframe."
   ]
  },
  {
   "cell_type": "code",
   "execution_count": null,
   "metadata": {},
   "outputs": [],
   "source": [
    "names(wetMets) <- wetMets[1,]\n",
    "wetMets <- wetMets[-c(1),]\n",
    "wetMets"
   ]
  },
  {
   "cell_type": "markdown",
   "metadata": {},
   "source": [
    "The dataframe looks good. There is only one remaining issue, which is that each column is a character `chr` data type. We can not calculate correlations between characters. To change those columns to a numeric data type, we can use the `sapply()` function to apply this conversion using the `as.numeric()` function to all columns in our dataframe."
   ]
  },
  {
   "cell_type": "code",
   "execution_count": null,
   "metadata": {},
   "outputs": [],
   "source": [
    "wetMets <- sapply(wetMets, as.numeric )"
   ]
  },
  {
   "cell_type": "code",
   "execution_count": null,
   "metadata": {},
   "outputs": [],
   "source": [
    "wetMets"
   ]
  },
  {
   "cell_type": "markdown",
   "metadata": {},
   "source": [
    "Finally, we can cacluate a correlation matrix to determine the degree of correlation between each landscape metric and every other landscape metric using the `cor()` function."
   ]
  },
  {
   "cell_type": "code",
   "execution_count": null,
   "metadata": {},
   "outputs": [],
   "source": [
    "corMatrix <- cor(wetMets)"
   ]
  },
  {
   "cell_type": "code",
   "execution_count": null,
   "metadata": {},
   "outputs": [],
   "source": [
    "head(corMatrix)"
   ]
  },
  {
   "cell_type": "markdown",
   "metadata": {},
   "source": [
    "The `findCorrelation()` function searches through a correlation matrix and identifies when two variables are correlated above a threshold value, which is specified as the `cutoff` parameter. When two variables are correlated above the cutoff value, the column index is added to a vector. You can find more details about the process of how the function determines which variable to remove and the `exact` parameter in the RDocumentation here:\n",
    "\n",
    "https://www.rdocumentation.org/packages/caret/versions/6.0-86/topics/findCorrelation\n",
    "\n",
    "To select a set of non-correlated landscape metrics for describing our wetland vegetation patterns, lets use the `findCorrelation()` function with a cutoff value of 0.9."
   ]
  },
  {
   "cell_type": "code",
   "execution_count": null,
   "metadata": {},
   "outputs": [],
   "source": [
    "metricColsToRemove <- findCorrelation(corMatrix, cutoff = 0.95, exact=TRUE)"
   ]
  },
  {
   "cell_type": "markdown",
   "metadata": {},
   "source": [
    "Lets remove those columns/metrics from our matrix of landscape metrics `wetMets` using the minus sign `-` and bracket `[ , ]` notation to remove those column ids from our `wetMets` data."
   ]
  },
  {
   "cell_type": "code",
   "execution_count": null,
   "metadata": {},
   "outputs": [],
   "source": [
    "wetMets <- wetMets[,-metricColsToRemove]"
   ]
  },
  {
   "cell_type": "code",
   "execution_count": null,
   "metadata": {},
   "outputs": [],
   "source": [
    "print(wetMets)"
   ]
  },
  {
   "cell_type": "markdown",
   "metadata": {},
   "source": [
    "Phew... all of that work and we still have a large number of metrics left. There are still many improvements we could make to our approach and further reduce our metric selection. Typically the final metric selection is at least partially dependent on the type of research question we are answering. For examples of additional metric selection methods and research questions that are answered in part by the use of landscape metrics, review the papers listed at the beginning of this notebook. \n",
    "\n",
    "For now, lets simply take a subset of the non-correlated metrics we have acquired."
   ]
  },
  {
   "cell_type": "code",
   "execution_count": null,
   "metadata": {},
   "outputs": [],
   "source": [
    "subset <- c(\"shei\", \"sidi\", \"lpi\", \"np\")\n",
    "finalMetrics <- as.data.frame(t(wetlandMetricsClean))\n",
    "names(finalMetrics) <- finalMetrics[1,]\n",
    "finalMetrics <- finalMetrics[-c(1),]\n",
    "finalMetrics <- finalMetrics[,subset]"
   ]
  },
  {
   "cell_type": "code",
   "execution_count": null,
   "metadata": {},
   "outputs": [],
   "source": [
    "finalMetrics"
   ]
  },
  {
   "cell_type": "markdown",
   "metadata": {},
   "source": [
    "Lets use some simple visualizations to inspect our four non-correlated landscape metrics and try and interpret the differences in patterns among our study wetlands.\n",
    "\n",
    "First lets look at wetland vegetation diversity using Shannon's Evenness Index `shei` and Simpson's diversity index `sidi`. The `shei` is a measure of class dominance and equals 0 when only one patch present and equals 1 when the proportion of classes is completely equally distributed. The `sidi` is less sensitive to rare cases than Shannon's Diversity Index `shdi` and is interpreted as the probability that two randomly selected cells belong to the same class. The `sidi`= 0 when only one patch is present and approaches 1 when the number of class types increases while the proportions are equally distributed. These descriptions can be found on the Reference page of the `landscapemetrics` website https://r-spatialecology.github.io/landscapemetrics/reference/index.html\n"
   ]
  },
  {
   "cell_type": "code",
   "execution_count": null,
   "metadata": {},
   "outputs": [],
   "source": [
    "library(ggplot2)\n",
    "theme_set(theme_classic())"
   ]
  },
  {
   "cell_type": "code",
   "execution_count": null,
   "metadata": {},
   "outputs": [],
   "source": [
    "g_shei <- ggplot(finalMetrics, aes(rownames(finalMetrics), shei))\n",
    "g_shei + geom_bar(stat=\"identity\", width = 0.5, fill=\"darkblue\") + \n",
    "      labs(title=\"Shannon's Diverity Index\") +\n",
    "      theme(axis.text.x = element_text(angle=65, vjust=0.6, size = 15))"
   ]
  },
  {
   "cell_type": "code",
   "execution_count": null,
   "metadata": {},
   "outputs": [],
   "source": [
    "g_sidi <- ggplot(finalMetrics, aes(rownames(finalMetrics), sidi))\n",
    "g_sidi + geom_bar(stat=\"identity\", width = 0.5, fill=\"darkblue\") + \n",
    "      labs(title=\"Simpson's Diverity Index\") +\n",
    "      theme(axis.text.x = element_text(angle=65, vjust=0.6, size = 15))"
   ]
  },
  {
   "cell_type": "code",
   "execution_count": null,
   "metadata": {},
   "outputs": [],
   "source": [
    "g_lpi <- ggplot(finalMetrics, aes(rownames(finalMetrics), lpi))\n",
    "g_lpi + geom_bar(stat=\"identity\", width = 0.5, fill=\"darkblue\") + \n",
    "      labs(title=\"Largest Patch Index\") +\n",
    "      theme(axis.text.x = element_text(angle=65, vjust=0.6, size = 15))"
   ]
  },
  {
   "cell_type": "code",
   "execution_count": null,
   "metadata": {},
   "outputs": [],
   "source": [
    "g_np <- ggplot(finalMetrics, aes(rownames(finalMetrics), np))\n",
    "g_np + geom_bar(stat=\"identity\", width = 0.5, fill=\"darkblue\") + \n",
    "      labs(title=\"Number of Patches\") +\n",
    "      theme(axis.text.x = element_text(angle=65, vjust=0.6, size = 15))"
   ]
  },
  {
   "cell_type": "markdown",
   "metadata": {},
   "source": [
    "The bar charts you just created only scratch the surface of many ways to analyze and visualize landscape metric values. While the bulk of this notebook was spent on working with raster data, calculating landscape metric values, and identifying non-correlated metrics for quantifying the composition and configuration of wetland vegetation patches, this approach can be used for any type of spatial pattern analysis comprising nominal (i.e., categorical) data. "
   ]
  },
  {
   "cell_type": "markdown",
   "metadata": {},
   "source": [
    "# Congratulations!\n",
    "\n",
    "**You have reached the end of the Introduction to Landscape Metrics notebook**"
   ]
  }
 ],
 "metadata": {
  "kernelspec": {
   "display_name": "R 4.0.2",
   "language": "R",
   "name": "uw-r-4-0-2-ivybridge"
  },
  "language_info": {
   "codemirror_mode": "r",
   "file_extension": ".r",
   "mimetype": "text/x-r-source",
   "name": "R",
   "pygments_lexer": "r",
   "version": "4.0.2"
  }
 },
 "nbformat": 4,
 "nbformat_minor": 4
}
